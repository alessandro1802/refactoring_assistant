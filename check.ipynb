{
 "cells": [
  {
   "metadata": {
    "id": "c9278e450a00fb27"
   },
   "cell_type": "markdown",
   "source": [
    "# Code analyzers"
   ],
   "id": "c9278e450a00fb27"
  },
  {
   "metadata": {
    "ExecuteTime": {
     "end_time": "2024-05-19T12:43:45.813746Z",
     "start_time": "2024-05-19T12:43:45.808905Z"
    },
    "id": "3d6ca833cea740ad"
   },
   "cell_type": "code",
   "source": "file_path = \"./examples/before/1.py\"",
   "id": "3d6ca833cea740ad",
   "execution_count": null,
   "outputs": []
  },
  {
   "metadata": {
    "id": "5072ec5861ce1954"
   },
   "cell_type": "markdown",
   "source": [
    "## Flake8"
   ],
   "id": "5072ec5861ce1954"
  },
  {
   "metadata": {
    "ExecuteTime": {
     "end_time": "2024-05-19T12:43:46.684164Z",
     "start_time": "2024-05-19T12:43:46.538744Z"
    },
    "id": "971a0a16791d1464",
    "outputId": "a3a180b8-6b59-43b1-feff-cae955938038"
   },
   "cell_type": "code",
   "source": [
    "flake8_out = !flake8 --format='%(row)d,%(col)d::%(code)s::%(text)s' \"$file_path\"\n",
    "\n",
    "for i in flake8_out:\n",
    "    print(i)\n",
    "\n",
    "flake8_out = '\\n'.join(flake8_out)"
   ],
   "id": "971a0a16791d1464",
   "execution_count": null,
   "outputs": []
  },
  {
   "metadata": {
    "id": "ae6650578f4189aa"
   },
   "cell_type": "markdown",
   "source": [
    "## mypy"
   ],
   "id": "ae6650578f4189aa"
  },
  {
   "metadata": {
    "ExecuteTime": {
     "end_time": "2024-05-19T12:43:47.849011Z",
     "start_time": "2024-05-19T12:43:47.399076Z"
    },
    "id": "8081889e41e3fc64",
    "outputId": "41fd9745-9a5e-4152-b7ff-490c4404df5a"
   },
   "cell_type": "code",
   "source": [
    "mypy_out = !mypy \"$file_path\" --no-color-output --pretty --strict\n",
    "\n",
    "for i in mypy_out:\n",
    "    print(i)\n",
    "\n",
    "mypy_out = '\\n'.join(mypy_out)"
   ],
   "id": "8081889e41e3fc64",
   "execution_count": null,
   "outputs": []
  },
  {
   "metadata": {
    "id": "5364df846e6f3ea0"
   },
   "cell_type": "markdown",
   "source": [
    "## Pylint"
   ],
   "id": "5364df846e6f3ea0"
  },
  {
   "metadata": {
    "ExecuteTime": {
     "end_time": "2024-05-19T12:43:48.499458Z",
     "start_time": "2024-05-19T12:43:48.496767Z"
    },
    "id": "7ffdb64be61d847e"
   },
   "cell_type": "code",
   "source": [
    "# pylint_out = !pylint $file_path --msg-template='{line}:{column}: {msg_id}: {msg} ({symbol})'\n",
    "#\n",
    "# for i in pylint_out:\n",
    "#     print(i)\n",
    "#\n",
    "# pylint_out = '\\n'.join(pylint_out)"
   ],
   "id": "7ffdb64be61d847e",
   "execution_count": null,
   "outputs": []
  },
  {
   "metadata": {
    "id": "d016227c42e241b4"
   },
   "cell_type": "markdown",
   "source": [
    "The magic command doesn't see the variable file path."
   ],
   "id": "d016227c42e241b4"
  },
  {
   "metadata": {
    "id": "c43c5f4805af128c"
   },
   "cell_type": "markdown",
   "source": [
    "## Black"
   ],
   "id": "c43c5f4805af128c"
  },
  {
   "metadata": {
    "ExecuteTime": {
     "end_time": "2024-05-19T12:43:49.171140Z",
     "start_time": "2024-05-19T12:43:49.167743Z"
    },
    "id": "77b6b9eb9241bfce"
   },
   "cell_type": "code",
   "source": [
    "# $ black examples/1.py\n",
    "# reformatted examples/1.py\n",
    "#\n",
    "# All done! ✨ 🍰 ✨\n",
    "# 1 file reformatted."
   ],
   "id": "77b6b9eb9241bfce",
   "execution_count": null,
   "outputs": []
  },
  {
   "metadata": {
    "id": "3c80bdbfd88b0d17"
   },
   "cell_type": "markdown",
   "source": [
    "It just refactors the code seemingly according to flake8 suggestions."
   ],
   "id": "3c80bdbfd88b0d17"
  },
  {
   "metadata": {
    "id": "d68458ceb5a390e6"
   },
   "cell_type": "markdown",
   "source": [
    "# Refactoring"
   ],
   "id": "d68458ceb5a390e6"
  },
  {
   "metadata": {
    "id": "594bfa81e025c81d"
   },
   "cell_type": "markdown",
   "source": [
    "## Read the source code"
   ],
   "id": "594bfa81e025c81d"
  },
  {
   "metadata": {
    "ExecuteTime": {
     "end_time": "2024-05-19T12:43:50.190979Z",
     "start_time": "2024-05-19T12:43:50.188436Z"
    },
    "id": "f1ddce42e67df94a",
    "outputId": "807de7fb-c329-426f-b9ab-80b3602e6de2"
   },
   "cell_type": "code",
   "source": [
    "with open(file_path, 'r') as f:\n",
    "    code = f.read()\n",
    "\n",
    "for i in code.split('\\n'):\n",
    "    print(i)"
   ],
   "id": "f1ddce42e67df94a",
   "execution_count": null,
   "outputs": []
  },
  {
   "metadata": {
    "id": "97b36261a8b62207"
   },
   "cell_type": "markdown",
   "source": [
    "## Import LLM"
   ],
   "id": "97b36261a8b62207"
  },
  {
   "metadata": {
    "ExecuteTime": {
     "end_time": "2024-05-19T12:43:56.592213Z",
     "start_time": "2024-05-19T12:43:52.816184Z"
    },
    "id": "de69cad24c6ff229"
   },
   "cell_type": "code",
   "source": [
    "from transformers import set_seed, AutoTokenizer, AutoModelForCausalLM\n",
    "\n",
    "set_seed(123)"
   ],
   "id": "de69cad24c6ff229",
   "execution_count": 4,
   "outputs": []
  },
  {
   "metadata": {
    "ExecuteTime": {
     "end_time": "2024-05-19T12:52:28.842692Z",
     "start_time": "2024-05-19T12:43:57.738314Z"
    },
    "id": "35ca37badfad3e4a"
   },
   "cell_type": "code",
   "source": [
    "# tokenizer = AutoTokenizer.from_pretrained(\"BarraHome/Mistroll-7B-v2.2\")\n",
    "# model = AutoModelForCausalLM.from_pretrained(\"BarraHome/Mistroll-7B-v2.2\")\n",
    "\n",
    "tokenizer = AutoTokenizer.from_pretrained(\"pansophic/rocket-3B\")\n",
    "model = AutoModelForCausalLM.from_pretrained(\"pansophic/rocket-3B\")\n",
    "\n",
    "# tokenizer = AutoTokenizer.from_pretrained(\"TinyLlama/TinyLlama-1.1B-step-50K-105b\")\n",
    "# model = AutoModelForCausalLM.from_pretrained(\"TinyLlama/TinyLlama-1.1B-step-50K-105b\")\n",
    "\n",
    "device = \"cuda\"\n",
    "# device = \"mps\"\n",
    "model.to(device)"
   ],
   "id": "35ca37badfad3e4a",
   "execution_count": null,
   "outputs": []
  },
  {
   "metadata": {
    "ExecuteTime": {
     "end_time": "2024-05-19T12:52:38.528325Z",
     "start_time": "2024-05-19T12:52:38.264071Z"
    },
    "id": "66b2eb056058250e"
   },
   "cell_type": "code",
   "source": [
    "prompt = \"Hey, are you conscious? Can you talk to me?\"\n",
    "model_inputs = tokenizer(prompt, return_tensors=\"pt\").to(model.device)"
   ],
   "id": "66b2eb056058250e",
   "execution_count": 6,
   "outputs": []
  },
  {
   "metadata": {
    "ExecuteTime": {
     "end_time": "2024-05-19T13:16:25.106912Z",
     "start_time": "2024-05-19T12:52:39.405913Z"
    },
    "colab": {
     "base_uri": "https://localhost:8080/",
     "height": 165
    },
    "id": "f76b0f13e89b2834",
    "outputId": "2e4fa2a2-6a00-4a22-c902-b31d75d06a98"
   },
   "cell_type": "code",
   "source": [
    "generated_ids = model.generate(**model_inputs, max_length=512, do_sample=True)\n",
    "responses = tokenizer.batch_decode(generated_ids, skip_special_tokens=True)[0]\n",
    "responses[len(prompt):]"
   ],
   "id": "f76b0f13e89b2834",
   "execution_count": 7,
   "outputs": []
  },
  {
   "metadata": {
    "id": "50bfc66710618bc1"
   },
   "cell_type": "markdown",
   "source": [
    "## Prompt LLM"
   ],
   "id": "50bfc66710618bc1"
  },
  {
   "metadata": {
    "ExecuteTime": {
     "end_time": "2024-05-07T14:59:53.986506Z",
     "start_time": "2024-05-07T14:59:53.964549Z"
    },
    "colab": {
     "base_uri": "https://localhost:8080/"
    },
    "id": "8ac1adb956b66c2",
    "outputId": "aea47279-c48c-42d5-b7b5-e6ea461dc251"
   },
   "cell_type": "code",
   "source": [
    "prompt = \"You are refactoring assistant. Your task is to rewrite the provided code based on provided hints to clean code without errors.\\n\" + \"Hints:\\n\" + \"format: column::error_code::error:\\n\" + flake8_out + \"\\n\" + mypy_out + \"\\n\" + \"Code:\\n\" + code + \"\\n\" + \"Make you answer strict and clean and include only rewrited code.\"\n",
    "for i in prompt.split('\\n'):\n",
    "    print(i)\n",
    "model_inputs = tokenizer(prompt, return_tensors=\"pt\").to(model.device)"
   ],
   "id": "8ac1adb956b66c2",
   "execution_count": 8,
   "outputs": []
  },
  {
   "metadata": {
    "ExecuteTime": {
     "end_time": "2024-05-07T15:15:22.274798Z",
     "start_time": "2024-05-07T15:02:17.795449Z"
    },
    "colab": {
     "base_uri": "https://localhost:8080/"
    },
    "id": "d5b4315034f64714",
    "outputId": "74f44fcf-506b-43d2-e7a3-ca2888fc40f3"
   },
   "cell_type": "code",
   "source": [
    "generated_ids = model.generate(**model_inputs, max_length=512, do_sample=True)\n",
    "responses = tokenizer.batch_decode(generated_ids, skip_special_tokens=True)[0]"
   ],
   "id": "d5b4315034f64714",
   "execution_count": 9,
   "outputs": []
  },
  {
   "metadata": {
    "ExecuteTime": {
     "end_time": "2024-05-07T15:15:22.278230Z",
     "start_time": "2024-05-07T15:15:22.277903Z"
    },
    "colab": {
     "base_uri": "https://localhost:8080/"
    },
    "id": "ac6a40c380c4c864",
    "outputId": "e6abc826-afb6-4fd7-f2ab-33529df57fb7"
   },
   "cell_type": "code",
   "source": [
    "for i in responses[len(prompt) + 1:].split('\\n'):\n",
    "    print(i)"
   ],
   "id": "ac6a40c380c4c864",
   "execution_count": 10,
   "outputs": []
  }
 ],
 "metadata": {
  "kernelspec": {
   "display_name": "Python 3",
   "name": "python3"
  },
  "language_info": {
   "codemirror_mode": {
    "name": "ipython",
    "version": 2
   },
   "file_extension": ".py",
   "mimetype": "text/x-python",
   "name": "python",
   "nbconvert_exporter": "python",
   "pygments_lexer": "ipython2",
   "version": "2.7.6"
  },
  "colab": {
   "provenance": [],
   "gpuType": "T4"
  },
  "accelerator": "GPU"
 },
 "nbformat": 4,
 "nbformat_minor": 5
}
