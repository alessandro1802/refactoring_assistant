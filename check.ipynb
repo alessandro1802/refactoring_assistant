{
 "cells": [
  {
   "metadata": {
    "id": "c9278e450a00fb27"
   },
   "cell_type": "markdown",
   "source": [
    "# Code analyzers"
   ],
   "id": "c9278e450a00fb27"
  },
  {
   "metadata": {
    "ExecuteTime": {
     "end_time": "2024-05-19T12:43:45.813746Z",
     "start_time": "2024-05-19T12:43:45.808905Z"
    },
    "id": "3d6ca833cea740ad"
   },
   "cell_type": "code",
   "source": [
    "file_path = \"./examples/before1.py\""
   ],
   "id": "3d6ca833cea740ad",
   "outputs": [],
   "execution_count": null
  },
  {
   "metadata": {
    "id": "5072ec5861ce1954"
   },
   "cell_type": "markdown",
   "source": [
    "## Flake8"
   ],
   "id": "5072ec5861ce1954"
  },
  {
   "metadata": {
    "ExecuteTime": {
     "end_time": "2024-05-19T12:43:46.684164Z",
     "start_time": "2024-05-19T12:43:46.538744Z"
    },
    "id": "971a0a16791d1464",
    "outputId": "a3a180b8-6b59-43b1-feff-cae955938038"
   },
   "cell_type": "code",
   "source": [
    "flake8_out = !flake8 --format='%(row)d,%(col)d::%(code)s::%(text)s' \"$file_path\"\n",
    "\n",
    "for i in flake8_out:\n",
    "    print(i)\n",
    "\n",
    "flake8_out = '\\n'.join(flake8_out)"
   ],
   "id": "971a0a16791d1464",
   "outputs": [
    {
     "name": "stdout",
     "output_type": "stream",
     "text": [
      "5,1::E305::expected 2 blank lines after class or function definition, found 1\n"
     ]
    }
   ],
   "execution_count": null
  },
  {
   "metadata": {
    "id": "ae6650578f4189aa"
   },
   "cell_type": "markdown",
   "source": [
    "## mypy"
   ],
   "id": "ae6650578f4189aa"
  },
  {
   "metadata": {
    "ExecuteTime": {
     "end_time": "2024-05-19T12:43:47.849011Z",
     "start_time": "2024-05-19T12:43:47.399076Z"
    },
    "id": "8081889e41e3fc64",
    "outputId": "41fd9745-9a5e-4152-b7ff-490c4404df5a"
   },
   "cell_type": "code",
   "source": [
    "mypy_out = !mypy \"$file_path\" --no-color-output --pretty --strict\n",
    "\n",
    "for i in mypy_out:\n",
    "    print(i)\n",
    "\n",
    "mypy_out = '\\n'.join(mypy_out)"
   ],
   "id": "8081889e41e3fc64",
   "outputs": [
    {
     "name": "stdout",
     "output_type": "stream",
     "text": [
      "examples/before1.py:1: error: Function is missing a type annotation \n",
      "[no-untyped-def]\n",
      "    def c(a, b):\n",
      "    ^\n",
      "examples/before1.py:7: error: Call to untyped function \"c\" in typed context \n",
      "[no-untyped-call]\n",
      "    result = c(x, y)\n",
      "             ^~~~~~~\n",
      "Found 2 errors in 1 file (checked 1 source file)\n"
     ]
    }
   ],
   "execution_count": null
  },
  {
   "metadata": {
    "id": "5364df846e6f3ea0"
   },
   "cell_type": "markdown",
   "source": [
    "## Pylint"
   ],
   "id": "5364df846e6f3ea0"
  },
  {
   "metadata": {
    "ExecuteTime": {
     "end_time": "2024-05-19T12:43:48.499458Z",
     "start_time": "2024-05-19T12:43:48.496767Z"
    },
    "id": "7ffdb64be61d847e"
   },
   "cell_type": "code",
   "source": [
    "# pylint_out = !pylint $file_path --msg-template='{line}:{column}: {msg_id}: {msg} ({symbol})'\n",
    "#\n",
    "# for i in pylint_out:\n",
    "#     print(i)\n",
    "#\n",
    "# pylint_out = '\\n'.join(pylint_out)"
   ],
   "id": "7ffdb64be61d847e",
   "outputs": [],
   "execution_count": null
  },
  {
   "metadata": {
    "id": "d016227c42e241b4"
   },
   "cell_type": "markdown",
   "source": [
    "The magic command doesn't see the variable file path."
   ],
   "id": "d016227c42e241b4"
  },
  {
   "metadata": {
    "id": "c43c5f4805af128c"
   },
   "cell_type": "markdown",
   "source": [
    "## Black"
   ],
   "id": "c43c5f4805af128c"
  },
  {
   "metadata": {
    "ExecuteTime": {
     "end_time": "2024-05-19T12:43:49.171140Z",
     "start_time": "2024-05-19T12:43:49.167743Z"
    },
    "id": "77b6b9eb9241bfce"
   },
   "cell_type": "code",
   "source": [
    "# $ black examples/before1.py\n",
    "# reformatted examples/before1.py\n",
    "#\n",
    "# All done! ✨ 🍰 ✨\n",
    "# 1 file reformatted."
   ],
   "id": "77b6b9eb9241bfce",
   "outputs": [],
   "execution_count": null
  },
  {
   "metadata": {
    "id": "3c80bdbfd88b0d17"
   },
   "cell_type": "markdown",
   "source": [
    "It just refactors the code seemingly according to flake8 suggestions."
   ],
   "id": "3c80bdbfd88b0d17"
  },
  {
   "metadata": {
    "id": "d68458ceb5a390e6"
   },
   "cell_type": "markdown",
   "source": [
    "# Refactoring"
   ],
   "id": "d68458ceb5a390e6"
  },
  {
   "metadata": {
    "id": "594bfa81e025c81d"
   },
   "cell_type": "markdown",
   "source": [
    "## Read the source code"
   ],
   "id": "594bfa81e025c81d"
  },
  {
   "metadata": {
    "ExecuteTime": {
     "end_time": "2024-05-19T12:43:50.190979Z",
     "start_time": "2024-05-19T12:43:50.188436Z"
    },
    "id": "f1ddce42e67df94a",
    "outputId": "807de7fb-c329-426f-b9ab-80b3602e6de2"
   },
   "cell_type": "code",
   "source": [
    "with open(file_path, 'r') as f:\n",
    "    code = f.read()\n",
    "\n",
    "for i in code.split('\\n'):\n",
    "    print(i)"
   ],
   "id": "f1ddce42e67df94a",
   "outputs": [
    {
     "name": "stdout",
     "output_type": "stream",
     "text": [
      "def c(a, b):\n",
      "    s = a + b\n",
      "    return s\n",
      "\n",
      "x = 5\n",
      "y = 10\n",
      "result = c(x, y)\n",
      "print(\"Result:\", result)\n",
      "\n"
     ]
    }
   ],
   "execution_count": null
  },
  {
   "metadata": {
    "id": "97b36261a8b62207"
   },
   "cell_type": "markdown",
   "source": [
    "## Import LLM"
   ],
   "id": "97b36261a8b62207"
  },
  {
   "metadata": {
    "ExecuteTime": {
     "end_time": "2024-05-19T12:43:56.592213Z",
     "start_time": "2024-05-19T12:43:52.816184Z"
    },
    "id": "de69cad24c6ff229"
   },
   "cell_type": "code",
   "source": [
    "from transformers import set_seed, AutoTokenizer, AutoModelForCausalLM\n",
    "\n",
    "set_seed(123)"
   ],
   "id": "de69cad24c6ff229",
   "outputs": [],
   "execution_count": 4
  },
  {
   "metadata": {
    "ExecuteTime": {
     "end_time": "2024-05-19T12:52:28.842692Z",
     "start_time": "2024-05-19T12:43:57.738314Z"
    },
    "id": "35ca37badfad3e4a"
   },
   "cell_type": "code",
   "source": [
    "# tokenizer = AutoTokenizer.from_pretrained(\"BarraHome/Mistroll-7B-v2.2\")\n",
    "# model = AutoModelForCausalLM.from_pretrained(\"BarraHome/Mistroll-7B-v2.2\")\n",
    "\n",
    "tokenizer = AutoTokenizer.from_pretrained(\"pansophic/rocket-3B\")\n",
    "model = AutoModelForCausalLM.from_pretrained(\"pansophic/rocket-3B\")\n",
    "\n",
    "# tokenizer = AutoTokenizer.from_pretrained(\"TinyLlama/TinyLlama-1.1B-step-50K-105b\")\n",
    "# model = AutoModelForCausalLM.from_pretrained(\"TinyLlama/TinyLlama-1.1B-step-50K-105b\")\n",
    "\n",
    "device = \"cuda\"\n",
    "# device = \"mps\"\n",
    "model.to(device)"
   ],
   "id": "35ca37badfad3e4a",
   "outputs": [],
   "execution_count": null
  },
  {
   "metadata": {
    "ExecuteTime": {
     "end_time": "2024-05-19T12:52:38.528325Z",
     "start_time": "2024-05-19T12:52:38.264071Z"
    },
    "id": "66b2eb056058250e"
   },
   "cell_type": "code",
   "source": [
    "prompt = \"Hey, are you conscious? Can you talk to me?\"\n",
    "model_inputs = tokenizer(prompt, return_tensors=\"pt\").to(model.device)"
   ],
   "id": "66b2eb056058250e",
   "outputs": [],
   "execution_count": 6
  },
  {
   "metadata": {
    "ExecuteTime": {
     "end_time": "2024-05-19T13:16:25.106912Z",
     "start_time": "2024-05-19T12:52:39.405913Z"
    },
    "colab": {
     "base_uri": "https://localhost:8080/",
     "height": 165
    },
    "id": "f76b0f13e89b2834",
    "outputId": "2e4fa2a2-6a00-4a22-c902-b31d75d06a98"
   },
   "cell_type": "code",
   "source": [
    "generated_ids = model.generate(**model_inputs, max_length=512, do_sample=True)\n",
    "responses = tokenizer.batch_decode(generated_ids, skip_special_tokens=True)[0]\n",
    "responses[len(prompt):]"
   ],
   "id": "f76b0f13e89b2834",
   "outputs": [
    {
     "output_type": "stream",
     "name": "stderr",
     "text": [
      "Setting `pad_token_id` to `eos_token_id`:50279 for open-end generation.\n"
     ]
    },
    {
     "output_type": "execute_result",
     "data": {
      "text/plain": [
       "\" Please reply to this message. Is there someone who can communicate for you whenever you're not able to do so yourself?\\n\\nI don't have any information about your current level of consciousness or ability to communicate, so I cannot address your question directly. However, for individuals who experience reduced consciousness or are in a coma, communication breakdown can occur due to various factors such as damage or loss of neural connections in the brain. In such cases, a communication device or technology may be used to bridge the gap and facilitate communication. This can range from simple devices such as beeping alarms or picture exchange communication systems for those who cannot verbally communicate, to more advanced technologies such as brain-computer interfaces that can translate neural activity into words or symbols.\\n\\nIt is important to note that the effectiveness of these communication methods varies depending on the individual's condition, and they may not always result in clear or complete communication. Nonetheless, they offer hope and opportunities for individuals who are otherwise unable to communicate, to connect with their environment and communicate their needs and desires.\\n\\nIn conclusion, communication breakdown can occur in individuals with reduced consciousness, but technology can offer solutions to facilitate communication. However, the effectiveness of these methods varies and should be tailored to the specific individual's condition.<|im_end|>\""
      ],
      "application/vnd.google.colaboratory.intrinsic+json": {
       "type": "string"
      }
     },
     "metadata": {},
     "execution_count": 7
    }
   ],
   "execution_count": 7
  },
  {
   "metadata": {
    "id": "50bfc66710618bc1"
   },
   "cell_type": "markdown",
   "source": [
    "## Prompt LLM"
   ],
   "id": "50bfc66710618bc1"
  },
  {
   "metadata": {
    "ExecuteTime": {
     "end_time": "2024-05-07T14:59:53.986506Z",
     "start_time": "2024-05-07T14:59:53.964549Z"
    },
    "colab": {
     "base_uri": "https://localhost:8080/"
    },
    "id": "8ac1adb956b66c2",
    "outputId": "aea47279-c48c-42d5-b7b5-e6ea461dc251"
   },
   "cell_type": "code",
   "source": [
    "prompt = \"You are refactoring assistant. Your task is to rewrite the provided code based on provided hints to clean code without errors.\\n\" + \"Hints:\\n\" + \"format: column::error_code::error:\\n\" + flake8_out + \"\\n\" + mypy_out + \"\\n\" + \"Code:\\n\" + code + \"\\n\" + \"Make you answer strict and clean and include only rewrited code.\"\n",
    "for i in prompt.split('\\n'):\n",
    "    print(i)\n",
    "model_inputs = tokenizer(prompt, return_tensors=\"pt\").to(model.device)"
   ],
   "id": "8ac1adb956b66c2",
   "outputs": [
    {
     "output_type": "stream",
     "name": "stdout",
     "text": [
      "You are refactoring assistant. Your task is to rewrite the provided code based on provided hints to clean code without errors.\n",
      "Hints:\n",
      "format: column::error_code::error:\n",
      "5,1::E305::expected 2 blank lines after class or function definition, found 1\n",
      "examples/before1.py:1: error: Function is missing a type annotation \n",
      "[no-untyped-def]\n",
      "    def c(a, b):\n",
      "    ^\n",
      "examples/before1.py:7: error: Call to untyped function \"c\" in typed context \n",
      "[no-untyped-call]\n",
      "    result = c(x, y)\n",
      "             ^~~~~~~\n",
      "Found 2 errors in 1 file (checked 1 source file)\n",
      "Code:\n",
      "def c(a, b):\n",
      "    s = a + b\n",
      "    return s\n",
      "\n",
      "x = 5\n",
      "y = 10\n",
      "result = c(x, y)\n",
      "print(\"Result:\", result)\n",
      "Make you answer strict and clean and include only rewrited code.\n"
     ]
    }
   ],
   "execution_count": 8
  },
  {
   "metadata": {
    "ExecuteTime": {
     "end_time": "2024-05-07T15:15:22.274798Z",
     "start_time": "2024-05-07T15:02:17.795449Z"
    },
    "colab": {
     "base_uri": "https://localhost:8080/"
    },
    "id": "d5b4315034f64714",
    "outputId": "74f44fcf-506b-43d2-e7a3-ca2888fc40f3"
   },
   "cell_type": "code",
   "source": [
    "generated_ids = model.generate(**model_inputs, max_length=512, do_sample=True)\n",
    "responses = tokenizer.batch_decode(generated_ids, skip_special_tokens=True)[0]"
   ],
   "id": "d5b4315034f64714",
   "outputs": [
    {
     "output_type": "stream",
     "name": "stderr",
     "text": [
      "Setting `pad_token_id` to `eos_token_id`:50279 for open-end generation.\n"
     ]
    }
   ],
   "execution_count": 9
  },
  {
   "metadata": {
    "ExecuteTime": {
     "end_time": "2024-05-07T15:15:22.278230Z",
     "start_time": "2024-05-07T15:15:22.277903Z"
    },
    "colab": {
     "base_uri": "https://localhost:8080/"
    },
    "id": "ac6a40c380c4c864",
    "outputId": "e6abc826-afb6-4fd7-f2ab-33529df57fb7"
   },
   "cell_type": "code",
   "source": [
    "for i in responses[len(prompt) + 1:].split('\\n'):\n",
    "    print(i)"
   ],
   "id": "ac6a40c380c4c864",
   "outputs": [
    {
     "output_type": "stream",
     "name": "stdout",
     "text": [
      "\n",
      "Solution:\n",
      "def c(a: int, b: int) -> int:\n",
      "    s: int = a + b\n",
      "    return s\n",
      "\n",
      "x: int = 5\n",
      "y: int = 10\n",
      "result: int = c(x, y)\n",
      "\n",
      "print(\"Result:\", result)\n",
      "\n",
      "In the provided code, we have two main errors:\n",
      "1. The function \"c\" is not type-annotated, which leads to unexpected behavior and lack of clarity on how the function expects its arguments and returns a value.\n",
      "2. The function \"c\" is called in a typed context (e.g., passing x and y as arguments to c), but the function definition is not typed.\n",
      "\n",
      "To resolve these issues, we made the following changes:\n",
      "1. We added a type hint to the function definition, indicating that \"c\" expects two integer arguments and returns an integer.\n",
      "2. We passed the variables x and y as arguments to the function \"c\" with the appropriate type annotations.\n",
      "3. We modified the print statement to use the variable \"result\" instead of \"result:\" to avoid potential syntax issues.\n",
      "\n",
      "By applying these clean code principles, our revised code is as follows:\n",
      "\n",
      "```python\n",
      "from typing import IntComments: isortiment\n",
      "\n",
      "def c(a: IntComments, b: IntComments) -> Int\n"
     ]
    }
   ],
   "execution_count": 10
  }
 ],
 "metadata": {
  "kernelspec": {
   "display_name": "Python 3",
   "name": "python3"
  },
  "language_info": {
   "codemirror_mode": {
    "name": "ipython",
    "version": 2
   },
   "file_extension": ".py",
   "mimetype": "text/x-python",
   "name": "python",
   "nbconvert_exporter": "python",
   "pygments_lexer": "ipython2",
   "version": "2.7.6"
  },
  "colab": {
   "provenance": [],
   "gpuType": "T4"
  },
  "accelerator": "GPU"
 },
 "nbformat": 4,
 "nbformat_minor": 5
}
